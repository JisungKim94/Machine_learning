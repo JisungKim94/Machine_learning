{
 "cells": [
  {
   "cell_type": "code",
   "execution_count": 70,
   "metadata": {},
   "outputs": [
    {
     "name": "stdout",
     "output_type": "stream",
     "text": [
      "array1 type: <class 'numpy.ndarray'>\n",
      "array1 array 형태: (3,)\n",
      "array2 type: <class 'numpy.ndarray'>\n",
      "array2 array 형태: (2, 3)\n",
      "array3 type: <class 'numpy.ndarray'>\n",
      "array3 array 형태: (1, 3)\n",
      "array1: 1차원, array2: 2차원, array3:  2차원\n"
     ]
    }
   ],
   "source": [
    "import numpy as np\n",
    "# Type, Shape, Dimension에 대하여\n",
    "\n",
    "array1 = np.array([1, 2, 3])\n",
    "print('array1 type:', type(array1))\n",
    "print('array1 array 형태:', array1.shape)\n",
    "\n",
    "array2 = np.array([[1,2,3],\n",
    "                   [2,3,4]])\n",
    "print('array2 type:', type(array2))\n",
    "print('array2 array 형태:', array2.shape)\n",
    "\n",
    "array3 = np.array([[1,2,3]])\n",
    "print('array3 type:', type(array3))\n",
    "print('array3 array 형태:', array3.shape)\n",
    "\n",
    "print('\\n array1: {:0}차원, array2: {:1}차원, array3: {:2}차원'.format(array1.ndim, array2.ndim, array3.ndim))"
   ]
  },
  {
   "cell_type": "code",
   "execution_count": 19,
   "metadata": {},
   "outputs": [
    {
     "name": "stdout",
     "output_type": "stream",
     "text": [
      "spam and eggs\n",
      "eggs and spam\n",
      "1 2\n"
     ]
    }
   ],
   "source": [
    "# print 쓰는 방법\n",
    "\n",
    "print('{0} and {1}'.format('spam', 'eggs'))\n",
    "print('{1} and {0}'.format('spam', 'eggs'))\n",
    " \n",
    "num1=1;num2=2\n",
    "print('{0} {1}'.format(num1,num2))"
   ]
  },
  {
   "cell_type": "code",
   "execution_count": 72,
   "metadata": {},
   "outputs": [
    {
     "name": "stdout",
     "output_type": "stream",
     "text": [
      "<class 'list'> [1, 2, 3]\n",
      "<class 'numpy.ndarray'>\n",
      "[1 2 3] int32\n"
     ]
    }
   ],
   "source": [
    "list1 = [1,2,3]\n",
    "print(type(list1),list1)\n",
    "# print(list1, list1.dtype) list는 data type이 없나..?\n",
    "array1 = np.array(list1)\n",
    "print(type(array1))\n",
    "print(array1, array1.dtype)"
   ]
  },
  {
   "cell_type": "code",
   "execution_count": 25,
   "metadata": {},
   "outputs": [
    {
     "name": "stdout",
     "output_type": "stream",
     "text": [
      "[1, 2, 'test'] ['1' '2' 'test'] <U11\n",
      "[1, 2, 3.09] [1.   2.   3.09] float64\n"
     ]
    }
   ],
   "source": [
    "list2 = [1, 2, 'test']\n",
    "array2 = np.array(list2)\n",
    "print(list2, array2, array2.dtype)\n",
    "\n",
    "list3 = [1, 2, 3.09]\n",
    "array3 = np.array(list3)\n",
    "print(list3, array3, array3.dtype)"
   ]
  },
  {
   "cell_type": "code",
   "execution_count": 26,
   "metadata": {},
   "outputs": [
    {
     "name": "stdout",
     "output_type": "stream",
     "text": [
      "[1 2 3] int32 [1. 2. 3.] float32\n"
     ]
    }
   ],
   "source": [
    "array_int = np.array([1,2,3])\n",
    "array_float = array_int.astype('float32')\n",
    "print(array_int, array_int.dtype, array_float, array_float.dtype)\n",
    "\n"
   ]
  },
  {
   "cell_type": "code",
   "execution_count": 29,
   "metadata": {},
   "outputs": [
    {
     "name": "stdout",
     "output_type": "stream",
     "text": [
      "[0 1 2 3 4 5 6 7 8 9]\n",
      "int32 (10,)\n"
     ]
    }
   ],
   "source": [
    "sequence_array = np.arange(10)\n",
    "\n",
    "print(sequence_array)\n",
    "print(sequence_array.dtype, sequence_array.shape)\n"
   ]
  },
  {
   "cell_type": "code",
   "execution_count": 35,
   "metadata": {},
   "outputs": [
    {
     "name": "stdout",
     "output_type": "stream",
     "text": [
      "[[0 0]\n",
      " [0 0]\n",
      " [0 0]] int32 (3, 2) \n",
      "\n",
      "[[1. 1.]\n",
      " [1. 1.]\n",
      " [1. 1.]] float32 (3, 2) \n",
      "\n",
      "[[0. 0. 0.]\n",
      " [0. 0. 0.]] float64 (2, 3)\n"
     ]
    }
   ],
   "source": [
    "# zeros, ones\n",
    "\n",
    "zero_array = np.zeros((3,2), dtype = 'int32')\n",
    "one_array = np.ones((3,2), dtype = 'float32')\n",
    "zero2_array = np.zeros((2,3))\n",
    "\n",
    "\n",
    "print(zero_array, zero_array.dtype, zero_array.shape, '\\n')\n",
    "print(one_array, one_array.dtype, one_array.shape, '\\n')\n",
    "print(zero2_array, zero2_array.dtype, zero2_array.shape)"
   ]
  },
  {
   "cell_type": "code",
   "execution_count": 51,
   "metadata": {},
   "outputs": [
    {
     "name": "stdout",
     "output_type": "stream",
     "text": [
      "[0 1 2 3 4 5 6 7 8 9] \n",
      "\n",
      "[[0 1 2 3 4]\n",
      " [5 6 7 8 9]] \n",
      " array2 shape : \n",
      " (2, 5) \n",
      "\n",
      "[[0 1]\n",
      " [2 3]\n",
      " [4 5]\n",
      " [6 7]\n",
      " [8 9]] \n",
      " array3 shape : \n",
      " (5, 2)\n"
     ]
    }
   ],
   "source": [
    "# arange랑 reshape쓰는법\n",
    "\n",
    "array1 = np.arange(10)\n",
    "print(array1,'\\n')\n",
    "\n",
    "array2 = array1.reshape(-1,5)\n",
    "print(array2, '\\n array2 shape : \\n', array2.shape, '\\n')\n",
    "\n",
    "array3 = array1.reshape(5,-1)\n",
    "print(array3, '\\n array3 shape : \\n', array3.shape)"
   ]
  },
  {
   "cell_type": "code",
   "execution_count": 73,
   "metadata": {},
   "outputs": [
    {
     "name": "stdout",
     "output_type": "stream",
     "text": [
      "\n",
      " array1d list expression: [0, 1, 2, 3, 4, 5, 6, 7]\n",
      "\n",
      " array1d shape: (8,)\n",
      "\n",
      " array3d list expression:\n",
      " [[[0, 1], [2, 3]], [[4, 5], [6, 7]]]\n",
      "\n",
      " array3d : \n",
      " [[[0 1]\n",
      "  [2 3]]\n",
      "\n",
      " [[4 5]\n",
      "  [6 7]]]\n",
      "\n",
      " array3d shape: (2, 2, 2)\n",
      "\n",
      " array2D_1 list expression : [[0], [1], [2], [3], [4], [5], [6], [7]]\n",
      "array2D_1 shape: (8, 1)\n",
      "\n",
      " array2D_2 list expression : [[0], [1], [2], [3], [4], [5], [6], [7]]\n",
      "array2D_2 shape: (8, 1)\n"
     ]
    }
   ],
   "source": [
    "# reshape 쓰는법\n",
    "\n",
    "array1d = np.arange(8) # np.arange(8) = 1,2,3 ... 7임 8아님\n",
    "print('\\n array1d list expression:', array1d.tolist())\n",
    "print('\\n array1d shape:', array1d.shape)\n",
    "\n",
    "array3d = array1d.reshape((2,2,2))\n",
    "print('\\n array3d list expression:\\n', array3d.tolist())\n",
    "print('\\n array3d : \\n', array3d)\n",
    "print('\\n array3d shape:', array3d.shape)\n",
    "\n",
    "# 3 Dimesions ndarray transform to 2D ndarray\n",
    "array2D_1 = array3d.reshape(-1,1)\n",
    "print('\\n array2D_1 list expression :', array2D_1.tolist())\n",
    "print('array2D_1 shape:', array2D_1.shape)\n",
    "\n",
    "# 1D transfrom to 2D\n",
    "array2D_2 = array1d.reshape(-1,1)\n",
    "print('\\n array2D_2 list expression :', array2D_2.tolist())\n",
    "print('array2D_2 shape:', array2D_2.shape)\n",
    "\n",
    "\n"
   ]
  },
  {
   "cell_type": "code",
   "execution_count": 66,
   "metadata": {},
   "outputs": [
    {
     "name": "stdout",
     "output_type": "stream",
     "text": [
      "array1 : [1 2 3 4 5 6 7 8 9]\n",
      "array1[1] : 2\n",
      "array1[-1] : 9\n"
     ]
    }
   ],
   "source": [
    "# : 쓰는법\n",
    "\n",
    "array1 = np.arange(start=1,stop=10) # start1, stop10 = 1,2,3 ... 9임 10 아님\n",
    "print('array1 :',array1)\n",
    "print('array1[1] :', array1[1])\n",
    "print('array1[-1] :', array1[-1])"
   ]
  },
  {
   "cell_type": "code",
   "execution_count": 69,
   "metadata": {},
   "outputs": [
    {
     "name": "stdout",
     "output_type": "stream",
     "text": [
      "array1 : [0 1 2 3 4 5 6 7 8 9]\n",
      "array4 : [3 4]\n",
      "array5 : [0 1 2]\n",
      "array6 : [3 4 5 6 7 8 9]\n",
      "array7 : [0 1 2 3 4 5 6 7 8 9]\n"
     ]
    }
   ],
   "source": [
    "array1 = np.arange(10) # 0 1 2 3 4 5 6 7 8 9\n",
    "array4 = array1[3:5] # 3 4 5 일거 같지? 아님\n",
    "array5 = array1[:3] # 0 1 2 3 일거 같지? 아님\n",
    "array6 = array1[3:] # 3 4 5 6 7 8 9 일거 같지? 맞음 ㅎㅎㅎㅎㅎㅎ\n",
    "array7 = array1[:]\n",
    "\n",
    "print('array1 :', array1)\n",
    "print('array4 :', array4)\n",
    "print('array5 :', array5)\n",
    "print('array6 :', array6)\n",
    "print('array7 :', array7)"
   ]
  },
  {
   "cell_type": "code",
   "execution_count": 79,
   "metadata": {},
   "outputs": [
    {
     "name": "stdout",
     "output_type": "stream",
     "text": [
      "array1d : [1 2 3 4 5 6 7 8 9]\n",
      "array_boolean_indexing : [6 7 8 9]\n",
      "array1d > 5 : [False False False False False  True  True  True  True]\n"
     ]
    },
    {
     "data": {
      "text/plain": [
       "array([False, False, False, False, False,  True,  True,  True,  True])"
      ]
     },
     "execution_count": 79,
     "metadata": {},
     "output_type": "execute_result"
    }
   ],
   "source": [
    "# boolean indexing\n",
    "\n",
    "array1d = np.arange(start=1, stop=10)\n",
    "print('array1d :',array1d)\n",
    "array_boolean_indexing = array1d[array1d > 5]\n",
    "print('array_boolean_indexing :',array_boolean_indexing)\n",
    "print('array1d > 5 :', array1d > 5)\n",
    "array1d>5 # 즉, array1d > 5 조건식의 반환인 ndarray 객체를 어떤 ndarray의 인덱싱 [] 안에 넣으면 True인 애들만 반환해준다"
   ]
  },
  {
   "cell_type": "code",
   "execution_count": 94,
   "metadata": {},
   "outputs": [
    {
     "name": "stdout",
     "output_type": "stream",
     "text": [
      "Original Array : [3 1 9 5]\n",
      "\n",
      "np.sort(org_array) : [1 3 5 9]\n",
      "org_array : [3 1 9 5]\n",
      "\n",
      "org_array.sort() : None\n",
      "org_array : [1 3 5 9]\n",
      "\n",
      " np.sort(org_array)[::-1] : [9 5 3 1]\n",
      "org_array : [3 1 5 9]\n",
      "\n",
      "\n",
      "\n",
      "Orignal Array :\n",
      " [[ 8 12]\n",
      " [ 7  1]]\n",
      "np.sort(array2d, axis=0) :\n",
      " [[ 7  1]\n",
      " [ 8 12]]\n",
      "np.sort(array2d, axis=1) :\n",
      " [[ 8 12]\n",
      " [ 1  7]]\n"
     ]
    }
   ],
   "source": [
    "# sort\n",
    "\n",
    "org_array = np.array([3, 1, 9, 5])\n",
    "print('Original Array :', org_array)\n",
    "sort_array1 = np.sort(org_array)\n",
    "print('\\nnp.sort(org_array) :', sort_array1)\n",
    "print('org_array :', org_array)\n",
    "\n",
    "org_array = np.array([3, 1, 5, 9])\n",
    "sort_array2 = org_array.sort() # org_array.sort 하고 괄호 안치면 output  \n",
    "#Sorted by ndarray.sort output : <built-in method sort of numpy.ndarray object at 0x0000028E763EE850> 나옴 그리고 sorting 안댐\n",
    "print('\\norg_array.sort() :', sort_array2)\n",
    "print('org_array :', org_array)\n",
    "\n",
    "org_array = np.array([3, 1, 5, 9])\n",
    "desc_array = np.sort(org_array)[::-1]\n",
    "print('\\n np.sort(org_array)[::-1] :', desc_array)\n",
    "print('org_array :', org_array)\n",
    "print('\\n\\n')\n",
    "\n",
    "array2d = np.array([[8,12],[7,1]])\n",
    "sort_array2d_axis0 = np.sort(array2d, axis=0)\n",
    "sort_array2d_axis1 = np.sort(array2d, axis=1)\n",
    "print('Orignal Array :\\n',array2d)\n",
    "print('np.sort(array2d, axis=0) :\\n', sort_array2d_axis0)\n",
    "print('np.sort(array2d, axis=1) :\\n', sort_array2d_axis1)"
   ]
  },
  {
   "cell_type": "code",
   "execution_count": 95,
   "metadata": {},
   "outputs": [],
   "source": [
    "# np.argsort()  sorting한 행렬에 대해 원본행렬의 인덱스를 얻어오는건데 나중에 쓸때 검색해서 보자\n",
    "\n",
    "# np.dot(A,B) A B 행렬 곱\n",
    "# np.transpose(A) A Transpose"
   ]
  },
  {
   "cell_type": "code",
   "execution_count": null,
   "metadata": {},
   "outputs": [],
   "source": []
  }
 ],
 "metadata": {
  "kernelspec": {
   "display_name": "Python 3",
   "language": "python",
   "name": "python3"
  },
  "language_info": {
   "codemirror_mode": {
    "name": "ipython",
    "version": 3
   },
   "file_extension": ".py",
   "mimetype": "text/x-python",
   "name": "python",
   "nbconvert_exporter": "python",
   "pygments_lexer": "ipython3",
   "version": "3.7.6"
  }
 },
 "nbformat": 4,
 "nbformat_minor": 4
}
